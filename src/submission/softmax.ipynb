{
  "cells": [
    {
      "cell_type": "markdown",
      "id": "2fdf2ae1",
      "metadata": {},
      "source": [
        "# Setup "
      ]
    },
    {
      "cell_type": "markdown",
      "id": "02652c55",
      "metadata": {},
      "source": [
        "<div style=\"background-color: #ffebee; border: 2px solid #d32f2f; padding: 10px; border-radius: 5px; color: #b71c1c;\">\n",
        "        <b>Caution:</b> The setup code below only needs to be run once per assignment. If you've already executed it, you can safely ignore this section and proceed to the <a href=\"#assignment-content\" style=\"color: #d32f2f; text-decoration: underline;\">Assignment Content</a>.\n",
        "    </div>"
      ]
    },
    {
      "cell_type": "markdown",
      "id": "ae793c0b",
      "metadata": {},
      "source": [
        "This will run through setup of all necessary dependencies to complete the assignment."
      ]
    },
    {
      "cell_type": "markdown",
      "id": "cda049e1",
      "metadata": {},
      "source": [
        "## Install required tools"
      ]
    },
    {
      "cell_type": "code",
      "execution_count": null,
      "id": "9bca6094",
      "metadata": {},
      "outputs": [],
      "source": [
        "try:\n",
        "  import google.colab\n",
        "  IN_COLAB = True\n",
        "except:\n",
        "  IN_COLAB = False\n",
        "\n",
        "if IN_COLAB:\n",
        "    # fixing error like \"No module named 'imp'\"\n",
        "    !sed -i -e 's/from imp import reload/from importlib import reload/' /usr/local/lib/python3.12/dist-packages/IPython/extensions/autoreload.py\n",
        "else:\n",
        "  import os\n",
        "  # add local dependencies to PATH (for uv installation)\n",
        "  os.environ['PATH'] = '/usr/local/bin:$HOME/.local/bin:' + os.environ['PATH']\n",
        "  # add conda dependencies to PATH (for conda installation)\n",
        "  os.environ['PATH'] = '/opt/anaconda3:~/anaconda3:~:~/miniconda3:/opt/miniconda3:' + os.environ['PATH']"
      ]
    },
    {
      "cell_type": "markdown",
      "id": "06d5422e",
      "metadata": {},
      "source": [
        "## Install datasets"
      ]
    },
    {
      "cell_type": "markdown",
      "id": "3ba057b7",
      "metadata": {},
      "source": [
        "The code snippets below will mount your Google Drive folder (if in a Colab environment) and proceed to install the relevant datasets needed to complete the assignment."
      ]
    },
    {
      "cell_type": "code",
      "execution_count": null,
      "id": "70705ee6",
      "metadata": {},
      "outputs": [],
      "source": [
        "if IN_COLAB:\n",
        "    # TODO: For colab, Enter the foldername in your Google Drive\n",
        "    # to the root of the assignment folder, where this notebook exists\n",
        "    # e.g. 'XCS231N/XCS231N-A?/src/submission' # you need to update \"A?\" with the homework number\n",
        "    FOLDERNAME = 'path to your submission folder, see the above description'\n",
        "    WORK_DIR = '/content/drive/MyDrive/{}'.format(FOLDERNAME)\n",
        "    # This mounts your Google Drive to the Colab VM.\n",
        "    from google.colab import drive\n",
        "    drive.mount('/content/drive')\n",
        "\n",
        "    assert FOLDERNAME is not None, \"[!] Enter the foldername.\"\n",
        "\n",
        "    # Now that we've mounted your Drive, this ensures that\n",
        "    # the Python interpreter of the Colab VM can load\n",
        "    # python files from within it.\n",
        "    import sys\n",
        "    sys.path.append(WORK_DIR)\n",
        "else:\n",
        "    # on local or azure, FOLDERNAME is set automatically\n",
        "    FOLDERNAME=os.getcwd()\n",
        "    WORK_DIR = FOLDERNAME\n",
        "\n",
        "print(f\"FOLDERNAME: \", FOLDERNAME)\n",
        "print(f\"WORK_DIR: \", WORK_DIR)"
      ]
    },
    {
      "cell_type": "code",
      "execution_count": null,
      "id": "f537ac6b",
      "metadata": {},
      "outputs": [],
      "source": [
        "print(\"Getting dataset: START\")\n",
        "%cd $WORK_DIR/xcs231n/datasets\n",
        "!bash get_datasets.sh\n",
        "%cd $WORK_DIR\n",
        "print(\"Getting dataset: DONE\")"
      ]
    },
    {
      "cell_type": "markdown",
      "id": "2d76b05d",
      "metadata": {},
      "source": [
        "# Package Manager Setup"
      ]
    },
    {
      "cell_type": "markdown",
      "id": "2eefd455",
      "metadata": {},
      "source": [
        "Below you have the option to run through the installation of `uv` package manager. Optionally, you can still work with `conda`."
      ]
    },
    {
      "cell_type": "markdown",
      "id": "ef618f0e",
      "metadata": {},
      "source": [
        "## `uv` (preferred)"
      ]
    },
    {
      "cell_type": "code",
      "execution_count": null,
      "id": "774a8631",
      "metadata": {},
      "outputs": [],
      "source": [
        "if not IN_COLAB:\n",
        "  %cd $WORK_DIR/../..\n",
        "  !source install.sh -r\n",
        "  !source .venv/bin/activate"
      ]
    },
    {
      "cell_type": "markdown",
      "id": "bc823161",
      "metadata": {},
      "source": [
        "## `conda` (legacy)"
      ]
    },
    {
      "cell_type": "code",
      "execution_count": null,
      "id": "161ae8ec",
      "metadata": {},
      "outputs": [],
      "source": [
        "# uncomment to use conda\n",
        "# if IN_COLAB:\n",
        "#     !pip install -q condacolab\n",
        "#     import condacolab\n",
        "#     condacolab.install()\n",
        "#     %cd $WORK_DIR/src\n",
        "#     !conda env create -f environment.yml\n",
        "#     !exec bash\n",
        "# else:\n",
        "#     %cd $WORK_DIR/src\n",
        "#     !conda env create -f environment.yml"
      ]
    },
    {
      "cell_type": "markdown",
      "id": "setup_divider",
      "metadata": {},
      "source": [
        "---"
      ]
    },
    {
      "cell_type": "markdown",
      "id": "assignment_content_header",
      "metadata": {},
      "source": [
        "<a id=\"assignment-content\"></a>\n",
        "\n",
        "# Assignment Content"
      ]
    },
    {
      "cell_type": "markdown",
      "id": "f08abd1b",
      "metadata": {
        "id": "f08abd1b",
        "tags": [
          "pdf-title"
        ]
      },
      "source": [
        "# Softmax Classifier exercise\n",
        "\n",
        "*Complete and hand in this completed worksheet (including its outputs and any supporting code outside of the worksheet) with your assignment submission. For more details see the assignment pdf file..*\n",
        "\n",
        "In this exercise you will:\n",
        "    \n",
        "- implement a fully-vectorized **loss function** for the Softmax classifier.\n",
        "- implement the fully-vectorized expression for its **analytic gradient**\n",
        "- **check your implementation** using numerical gradient\n",
        "- use a validation set to **tune the learning rate and regularization** strength\n",
        "- **optimize** the loss function with **SGD**\n",
        "- **visualize** the final learned weights\n"
      ]
    },
    {
      "cell_type": "markdown",
      "id": "7827a9e6",
      "metadata": {},
      "source": []
    },
    {
      "cell_type": "code",
      "execution_count": 1,
      "id": "3defe387",
      "metadata": {
        "id": "3defe387",
        "tags": [
          "pdf-ignore"
        ]
      },
      "outputs": [],
      "source": [
        "# Run some setup code for this notebook.\n",
        "import random\n",
        "import numpy as np\n",
        "from xcs231n.data_utils import load_CIFAR10\n",
        "import matplotlib.pyplot as plt\n",
        "\n",
        "# This is a bit of magic to make matplotlib figures appear inline in the\n",
        "# notebook rather than in a new window.\n",
        "%matplotlib inline\n",
        "plt.rcParams['figure.figsize'] = (10.0, 8.0) # set default size of plots\n",
        "plt.rcParams['image.interpolation'] = 'nearest'\n",
        "plt.rcParams['image.cmap'] = 'gray'\n",
        "\n",
        "# Some more magic so that the notebook will reload external python modules;\n",
        "# see http://stackoverflow.com/questions/1907993/autoreload-of-modules-in-ipython\n",
        "%load_ext autoreload\n",
        "%autoreload 2"
      ]
    },
    {
      "cell_type": "markdown",
      "id": "b8603125",
      "metadata": {
        "id": "b8603125",
        "tags": [
          "pdf-ignore"
        ]
      },
      "source": [
        "## CIFAR-10 Data Loading and Preprocessing"
      ]
    },
    {
      "cell_type": "code",
      "execution_count": 2,
      "id": "23bf85b0",
      "metadata": {
        "colab": {
          "base_uri": "https://localhost:8080/"
        },
        "executionInfo": {
          "elapsed": 5650,
          "status": "ok",
          "timestamp": 1743794416239,
          "user": {
            "displayName": "Chaitanya Pankajkumar Patel",
            "userId": "12528634836775253144"
          },
          "user_tz": 420
        },
        "id": "23bf85b0",
        "outputId": "c3181a6a-1230-4af7-ca09-325a540196c2",
        "tags": [
          "pdf-ignore"
        ]
      },
      "outputs": [],
      "source": [
        "# Load the raw CIFAR-10 data.\n",
        "cifar10_dir = \"xcs231n/datasets/cifar-10-batches-py\"\n",
        "\n",
        "# Cleaning up variables to prevent loading data multiple times (which may cause memory issue)\n",
        "try:\n",
        "   del X_train, y_train\n",
        "   del X_test, y_test\n",
        "   print('Clear previously loaded data.')\n",
        "except:\n",
        "   pass\n",
        "\n",
        "X_train, y_train, X_test, y_test = load_CIFAR10(cifar10_dir)\n",
        "\n",
        "# As a sanity check, we print out the size of the training and test data.\n",
        "print('Training data shape: ', X_train.shape)\n",
        "print('Training labels shape: ', y_train.shape)\n",
        "print('Test data shape: ', X_test.shape)\n",
        "print('Test labels shape: ', y_test.shape)"
      ]
    },
    {
      "cell_type": "code",
      "execution_count": 3,
      "id": "471ea325",
      "metadata": {
        "colab": {
          "base_uri": "https://localhost:8080/",
          "height": 665
        },
        "executionInfo": {
          "elapsed": 3548,
          "status": "ok",
          "timestamp": 1743794419787,
          "user": {
            "displayName": "Chaitanya Pankajkumar Patel",
            "userId": "12528634836775253144"
          },
          "user_tz": 420
        },
        "id": "471ea325",
        "outputId": "1b1b6573-3e06-4d7e-c57b-573709346e77",
        "tags": [
          "pdf-ignore"
        ]
      },
      "outputs": [],
      "source": [
        "# Visualize some examples from the dataset.\n",
        "# We show a few examples of training images from each class.\n",
        "classes = ['plane', 'car', 'bird', 'cat', 'deer', 'dog', 'frog', 'horse', 'ship', 'truck']\n",
        "num_classes = len(classes)\n",
        "samples_per_class = 7\n",
        "for y, cls in enumerate(classes):\n",
        "    idxs = np.flatnonzero(y_train == y)\n",
        "    idxs = np.random.choice(idxs, samples_per_class, replace=False)\n",
        "    for i, idx in enumerate(idxs):\n",
        "        plt_idx = i * num_classes + y + 1\n",
        "        plt.subplot(samples_per_class, num_classes, plt_idx)\n",
        "        plt.imshow(X_train[idx].astype('uint8'))\n",
        "        plt.axis('off')\n",
        "        if i == 0:\n",
        "            plt.title(cls)\n",
        "plt.show()"
      ]
    },
    {
      "cell_type": "code",
      "execution_count": 4,
      "id": "9bd1f984",
      "metadata": {
        "colab": {
          "base_uri": "https://localhost:8080/"
        },
        "executionInfo": {
          "elapsed": 632,
          "status": "ok",
          "timestamp": 1743794420436,
          "user": {
            "displayName": "Chaitanya Pankajkumar Patel",
            "userId": "12528634836775253144"
          },
          "user_tz": 420
        },
        "id": "9bd1f984",
        "outputId": "dfb6e105-eff4-482a-f861-1a622a3ed69a",
        "tags": [
          "pdf-ignore"
        ]
      },
      "outputs": [],
      "source": [
        "# Split the data into train, val, and test sets. In addition we will\n",
        "# create a small development set as a subset of the training data;\n",
        "# we can use this for development so our code runs faster.\n",
        "num_training = 49000\n",
        "num_validation = 1000\n",
        "num_test = 1000\n",
        "num_dev = 500\n",
        "\n",
        "# Our validation set will be num_validation points from the original\n",
        "# training set.\n",
        "mask = range(num_training, num_training + num_validation)\n",
        "X_val = X_train[mask]\n",
        "y_val = y_train[mask]\n",
        "\n",
        "# Our training set will be the first num_train points from the original\n",
        "# training set.\n",
        "mask = range(num_training)\n",
        "X_train = X_train[mask]\n",
        "y_train = y_train[mask]\n",
        "\n",
        "# We will also make a development set, which is a small subset of\n",
        "# the training set.\n",
        "mask = np.random.choice(num_training, num_dev, replace=False)\n",
        "X_dev = X_train[mask]\n",
        "y_dev = y_train[mask]\n",
        "\n",
        "# We use the first num_test points of the original test set as our\n",
        "# test set.\n",
        "mask = range(num_test)\n",
        "X_test = X_test[mask]\n",
        "y_test = y_test[mask]\n",
        "\n",
        "print('Train data shape: ', X_train.shape)\n",
        "print('Train labels shape: ', y_train.shape)\n",
        "print('Validation data shape: ', X_val.shape)\n",
        "print('Validation labels shape: ', y_val.shape)\n",
        "print('Test data shape: ', X_test.shape)\n",
        "print('Test labels shape: ', y_test.shape)"
      ]
    },
    {
      "cell_type": "code",
      "execution_count": 5,
      "id": "9bdd02f9",
      "metadata": {
        "colab": {
          "base_uri": "https://localhost:8080/"
        },
        "executionInfo": {
          "elapsed": 1083,
          "status": "ok",
          "timestamp": 1743794421521,
          "user": {
            "displayName": "Chaitanya Pankajkumar Patel",
            "userId": "12528634836775253144"
          },
          "user_tz": 420
        },
        "id": "9bdd02f9",
        "outputId": "429bf334-f584-44ae-9295-92189323ae9c",
        "tags": [
          "pdf-ignore"
        ]
      },
      "outputs": [],
      "source": [
        "# Preprocessing: reshape the image data into rows\n",
        "X_train = np.reshape(X_train, (X_train.shape[0], -1))\n",
        "X_val = np.reshape(X_val, (X_val.shape[0], -1))\n",
        "X_test = np.reshape(X_test, (X_test.shape[0], -1))\n",
        "X_dev = np.reshape(X_dev, (X_dev.shape[0], -1))\n",
        "\n",
        "# As a sanity check, print out the shapes of the data\n",
        "print('Training data shape: ', X_train.shape)\n",
        "print('Validation data shape: ', X_val.shape)\n",
        "print('Test data shape: ', X_test.shape)\n",
        "print('dev data shape: ', X_dev.shape)"
      ]
    },
    {
      "cell_type": "code",
      "execution_count": 6,
      "id": "066fffc7",
      "metadata": {
        "colab": {
          "base_uri": "https://localhost:8080/",
          "height": 421
        },
        "executionInfo": {
          "elapsed": 1049,
          "status": "ok",
          "timestamp": 1743794422571,
          "user": {
            "displayName": "Chaitanya Pankajkumar Patel",
            "userId": "12528634836775253144"
          },
          "user_tz": 420
        },
        "id": "066fffc7",
        "outputId": "77fd67cc-1a59-4718-9039-4452d1fed127",
        "tags": [
          "pdf-ignore-input"
        ]
      },
      "outputs": [],
      "source": [
        "# Preprocessing: subtract the mean image\n",
        "# first: compute the image mean based on the training data\n",
        "mean_image = np.mean(X_train, axis=0)\n",
        "print(mean_image[:10]) # print a few of the elements\n",
        "plt.figure(figsize=(4,4))\n",
        "plt.imshow(mean_image.reshape((32,32,3)).astype('uint8')) # visualize the mean image\n",
        "plt.show()\n",
        "\n",
        "# second: subtract the mean image from train and test data\n",
        "X_train -= mean_image\n",
        "X_val -= mean_image\n",
        "X_test -= mean_image\n",
        "X_dev -= mean_image\n",
        "\n",
        "# third: append the bias dimension of ones (i.e. bias trick) so that our classifier\n",
        "# only has to worry about optimizing a single weight matrix W.\n",
        "X_train = np.hstack([X_train, np.ones((X_train.shape[0], 1))])\n",
        "X_val = np.hstack([X_val, np.ones((X_val.shape[0], 1))])\n",
        "X_test = np.hstack([X_test, np.ones((X_test.shape[0], 1))])\n",
        "X_dev = np.hstack([X_dev, np.ones((X_dev.shape[0], 1))])\n",
        "\n",
        "print(X_train.shape, X_val.shape, X_test.shape, X_dev.shape)"
      ]
    },
    {
      "cell_type": "markdown",
      "id": "605c22f8",
      "metadata": {
        "id": "605c22f8"
      },
      "source": [
        "## Softmax Classifier\n",
        "\n",
        "Your code for this section will all be written inside `xcs231n/classifiers/softmax.py`.\n",
        "\n",
        "As you can see, we have prefilled the function `softmax_loss_naive` which uses for loops to evaluate the softmax loss function."
      ]
    },
    {
      "cell_type": "code",
      "execution_count": 7,
      "id": "56073f14",
      "metadata": {
        "colab": {
          "base_uri": "https://localhost:8080/"
        },
        "executionInfo": {
          "elapsed": 1925,
          "status": "ok",
          "timestamp": 1743794424498,
          "user": {
            "displayName": "Chaitanya Pankajkumar Patel",
            "userId": "12528634836775253144"
          },
          "user_tz": 420
        },
        "id": "56073f14",
        "outputId": "11910a7b-c524-47ac-d78d-13f63f6e326f"
      },
      "outputs": [],
      "source": [
        "# Evaluate the naive implementation of the loss we provided for you:\n",
        "from xcs231n.classifiers.softmax import softmax_loss_naive\n",
        "import time\n",
        "\n",
        "# generate a random Softmax classifier weight matrix of small numbers\n",
        "W = np.random.randn(3073, 10) * 0.0001\n",
        "\n",
        "loss, grad = softmax_loss_naive(W, X_dev, y_dev, 0.000005)\n",
        "print('loss: %f' % (loss, ))\n",
        "\n",
        "# As a rough sanity check, our loss should be something close to -log(0.1).\n",
        "print('loss: %f' % loss)\n",
        "print('sanity check: %f' % (-np.log(0.1)))"
      ]
    },
    {
      "cell_type": "markdown",
      "id": "NT_PDkFhZlMy",
      "metadata": {
        "id": "NT_PDkFhZlMy"
      },
      "source": [
        "**Inline Question 1**\n",
        "\n",
        "Why do we expect our loss to be close to -log(0.1)? Explain briefly.**\n",
        "\n",
        "\n",
        "$\\color{blue}{\\textit {Your Answer:}}$\n",
        "\n",
        "### START ANSWER HERE ###\n",
        "### END ANSWER HERE ###"
      ]
    },
    {
      "cell_type": "markdown",
      "id": "7dad4937",
      "metadata": {
        "id": "7dad4937"
      },
      "source": [
        "The `grad` returned from the function above is right now all zero. Derive and implement the gradient for the softmax loss function and implement it inline inside the function `softmax_loss_naive`. You will find it helpful to interleave your new code inside the existing function.\n",
        "\n",
        "To check that you have correctly implemented the gradient, you can numerically estimate the gradient of the loss function and compare the numeric estimate to the gradient that you computed. We have provided code that does this for you:"
      ]
    },
    {
      "cell_type": "code",
      "execution_count": 8,
      "id": "f7d5ad22",
      "metadata": {
        "colab": {
          "base_uri": "https://localhost:8080/"
        },
        "executionInfo": {
          "elapsed": 3981,
          "status": "ok",
          "timestamp": 1743794428481,
          "user": {
            "displayName": "Chaitanya Pankajkumar Patel",
            "userId": "12528634836775253144"
          },
          "user_tz": 420
        },
        "id": "f7d5ad22",
        "outputId": "9922d94e-a48f-4d2c-be06-d7179c62ceed"
      },
      "outputs": [],
      "source": [
        "# Once you've implemented the gradient, recompute it with the code below\n",
        "# and gradient check it with the function we provided for you\n",
        "\n",
        "# Compute the loss and its gradient at W.\n",
        "loss, grad = softmax_loss_naive(W, X_dev, y_dev, 0.0)\n",
        "\n",
        "# Numerically compute the gradient along several randomly chosen dimensions, and\n",
        "# compare them with your analytically computed gradient. The numbers should match\n",
        "# almost exactly along all dimensions.\n",
        "from xcs231n.gradient_check import grad_check_sparse\n",
        "f = lambda w: softmax_loss_naive(w, X_dev, y_dev, 0.0)[0]\n",
        "grad_numerical = grad_check_sparse(f, W, grad)\n",
        "\n",
        "# do the gradient check once again with regularization turned on\n",
        "# you didn't forget the regularization gradient did you?\n",
        "loss, grad = softmax_loss_naive(W, X_dev, y_dev, 5e1)\n",
        "f = lambda w: softmax_loss_naive(w, X_dev, y_dev, 5e1)[0]\n",
        "grad_numerical = grad_check_sparse(f, W, grad)"
      ]
    },
    {
      "cell_type": "markdown",
      "id": "665fc684",
      "metadata": {
        "id": "665fc684",
        "tags": [
          "pdf-inline"
        ]
      },
      "source": [
        "**Inline Question 2**\n",
        "\n",
        "Although gradcheck is reliable softmax loss, it is possible that for SVM loss, once in a while, a dimension in the gradcheck will not match exactly. What could such a discrepancy be caused by? Is it a reason for concern? What is a simple example in one dimension where a svm loss gradient check could fail? How would change the margin affect of the frequency of this happening?\n",
        "\n",
        "Note that SVM loss for a sample $(x_i, y_i)$ is defined as: $$L_i = \\sum_{j\\ne y_i}\\max(0, s_j - s_{y_i} + \\Delta)$$ where $j$ iterates over all classes except the correct class $y_i$ and $s_j$ denotes the classifier score for $j^{th}$ class. $\\Delta$ is a scalar margin. For more information, refer to 'Multiclass Support Vector Machine loss' on [this](https://cs231n.github.io/linear-classify/) page.\n",
        "\n",
        "*Hint: the SVM loss function is not strictly speaking differentiable.*\n",
        "\n",
        "\n",
        "$\\color{blue}{\\textit {Your Answer:}}$\n",
        "\n",
        "### START ANSWER HERE ###\n",
        "### END ANSWER HERE ###"
      ]
    },
    {
      "cell_type": "code",
      "execution_count": 9,
      "id": "310ca148",
      "metadata": {
        "colab": {
          "base_uri": "https://localhost:8080/"
        },
        "executionInfo": {
          "elapsed": 85,
          "status": "ok",
          "timestamp": 1743795158547,
          "user": {
            "displayName": "Chaitanya Pankajkumar Patel",
            "userId": "12528634836775253144"
          },
          "user_tz": 420
        },
        "id": "310ca148",
        "outputId": "c747293e-7342-4b2c-8b7c-39b9295f1a29",
        "scrolled": true,
        "test": "vectorized_time_1"
      },
      "outputs": [],
      "source": [
        "# Next implement the function softmax_loss_vectorized; for now only compute the loss;\n",
        "# we will implement the gradient in a moment.\n",
        "tic = time.time()\n",
        "loss_naive, grad_naive = softmax_loss_naive(W, X_dev, y_dev, 0.000005)\n",
        "toc = time.time()\n",
        "print('Naive loss: %e computed in %fs' % (loss_naive, toc - tic))\n",
        "\n",
        "from xcs231n.classifiers.softmax import softmax_loss_vectorized\n",
        "tic = time.time()\n",
        "loss_vectorized, _ = softmax_loss_vectorized(W, X_dev, y_dev, 0.000005)\n",
        "toc = time.time()\n",
        "print('Vectorized loss: %e computed in %fs' % (loss_vectorized, toc - tic))\n",
        "\n",
        "# The losses should match but your vectorized implementation should be much faster.\n",
        "print('difference: %f' % (loss_naive - loss_vectorized))"
      ]
    },
    {
      "cell_type": "code",
      "execution_count": null,
      "id": "ef5d3643",
      "metadata": {
        "colab": {
          "base_uri": "https://localhost:8080/"
        },
        "executionInfo": {
          "elapsed": 65,
          "status": "ok",
          "timestamp": 1743795161532,
          "user": {
            "displayName": "Chaitanya Pankajkumar Patel",
            "userId": "12528634836775253144"
          },
          "user_tz": 420
        },
        "id": "ef5d3643",
        "outputId": "c9493398-5678-40f7-ec48-b1d028c6ee4f",
        "test": "vectorized_time_2"
      },
      "outputs": [],
      "source": [
        "# Complete the implementation of softmax_loss_vectorized, and compute the gradient\n",
        "# of the loss function in a vectorized way.\n",
        "\n",
        "# The naive implementation and the vectorized implementation should match, but\n",
        "# the vectorized version should still be much faster.\n",
        "tic = time.time()\n",
        "_, grad_naive = softmax_loss_naive(W, X_dev, y_dev, 0.000005)\n",
        "toc = time.time()\n",
        "print('Naive loss and gradient: computed in %fs' % (toc - tic))\n",
        "\n",
        "tic = time.time()\n",
        "_, grad_vectorized = softmax_loss_vectorized(W, X_dev, y_dev, 0.000005)\n",
        "toc = time.time()\n",
        "print('Vectorized loss and gradient: computed in %fs' % (toc - tic))\n",
        "\n",
        "# The loss is a single number, so it is easy to compare the values computed\n",
        "# by the two implementations. The gradient on the other hand is a matrix, so\n",
        "# we use the Frobenius norm to compare them.\n",
        "difference = np.linalg.norm(grad_naive - grad_vectorized, ord='fro')\n",
        "print('difference: %f' % difference)"
      ]
    },
    {
      "cell_type": "markdown",
      "id": "635eef89",
      "metadata": {
        "id": "635eef89"
      },
      "source": [
        "### Stochastic Gradient Descent\n",
        "\n",
        "We now have vectorized and efficient expressions for the loss, the gradient and our gradient matches the numerical gradient. We are therefore ready to do SGD to minimize the loss. Your code for this part will be written inside `xcs231n/classifiers/linear_classifier.py`."
      ]
    },
    {
      "cell_type": "code",
      "execution_count": 11,
      "id": "a5a13952",
      "metadata": {
        "colab": {
          "base_uri": "https://localhost:8080/"
        },
        "executionInfo": {
          "elapsed": 12478,
          "status": "ok",
          "timestamp": 1743795453610,
          "user": {
            "displayName": "Chaitanya Pankajkumar Patel",
            "userId": "12528634836775253144"
          },
          "user_tz": 420
        },
        "id": "a5a13952",
        "outputId": "125d05ff-d5a8-44b2-a9c7-f3cb8d4d7e1b",
        "test": "sgd"
      },
      "outputs": [],
      "source": [
        "# In the file linear_classifier.py, implement SGD in the function\n",
        "# LinearClassifier.train() and then run it with the code below.\n",
        "from xcs231n.classifiers import Softmax\n",
        "softmax = Softmax()\n",
        "tic = time.time()\n",
        "loss_hist = softmax.train(X_train, y_train, learning_rate=1e-7, reg=2.5e4,\n",
        "                      num_iters=1500, verbose=True)\n",
        "toc = time.time()\n",
        "print('That took %fs' % (toc - tic))"
      ]
    },
    {
      "cell_type": "code",
      "execution_count": 12,
      "id": "abad0c45",
      "metadata": {
        "colab": {
          "base_uri": "https://localhost:8080/",
          "height": 698
        },
        "executionInfo": {
          "elapsed": 198,
          "status": "ok",
          "timestamp": 1743795453826,
          "user": {
            "displayName": "Chaitanya Pankajkumar Patel",
            "userId": "12528634836775253144"
          },
          "user_tz": 420
        },
        "id": "abad0c45",
        "outputId": "cf73cf70-be1a-46fe-fe75-1de956a993b4"
      },
      "outputs": [],
      "source": [
        "# A useful debugging strategy is to plot the loss as a function of\n",
        "# iteration number:\n",
        "plt.plot(loss_hist)\n",
        "plt.xlabel('Iteration number')\n",
        "plt.ylabel('Loss value')\n",
        "plt.show()"
      ]
    },
    {
      "cell_type": "code",
      "execution_count": 13,
      "id": "2e54af4f",
      "metadata": {
        "colab": {
          "base_uri": "https://localhost:8080/"
        },
        "executionInfo": {
          "elapsed": 513,
          "status": "ok",
          "timestamp": 1743795454338,
          "user": {
            "displayName": "Chaitanya Pankajkumar Patel",
            "userId": "12528634836775253144"
          },
          "user_tz": 420
        },
        "id": "2e54af4f",
        "outputId": "e0507a72-5b50-4215-da78-c2e19d32b912",
        "test": "validate"
      },
      "outputs": [],
      "source": [
        "# Write the LinearClassifier.predict function and evaluate the performance on\n",
        "# both the training and validation set\n",
        "# You should get validation accuracy of about 0.34 (> 0.33).\n",
        "y_train_pred = softmax.predict(X_train)\n",
        "print('training accuracy: %f' % (np.mean(y_train == y_train_pred), ))\n",
        "y_val_pred = softmax.predict(X_val)\n",
        "print('validation accuracy: %f' % (np.mean(y_val == y_val_pred), ))"
      ]
    },
    {
      "cell_type": "code",
      "execution_count": 14,
      "id": "216ca00c",
      "metadata": {},
      "outputs": [],
      "source": [
        "# Save the trained model for autograder.\n",
        "softmax.save(\"softmax.npy\")"
      ]
    },
    {
      "cell_type": "code",
      "execution_count": 15,
      "id": "1ce2da33",
      "metadata": {
        "colab": {
          "base_uri": "https://localhost:8080/"
        },
        "executionInfo": {
          "elapsed": 65396,
          "status": "ok",
          "timestamp": 1743795547447,
          "user": {
            "displayName": "Chaitanya Pankajkumar Patel",
            "userId": "12528634836775253144"
          },
          "user_tz": 420
        },
        "id": "1ce2da33",
        "outputId": "4e066fe9-9c16-425d-de50-c06f4542c7db",
        "tags": [
          "code"
        ],
        "test": "tuning"
      },
      "outputs": [],
      "source": [
        "# Use the validation set to tune hyperparameters (regularization strength and\n",
        "# learning rate). You should experiment with different ranges for the learning\n",
        "# rates and regularization strengths; if you are careful you should be able to\n",
        "# get a classification accuracy of about 0.365 (> 0.36) on the validation set.\n",
        "\n",
        "# Note: you may see runtime/overflow warnings during hyper-parameter search.\n",
        "# This may be caused by extreme values, and is not a bug.\n",
        "\n",
        "# results is dictionary mapping tuples of the form\n",
        "# (learning_rate, regularization_strength) to tuples of the form\n",
        "# (training_accuracy, validation_accuracy). The accuracy is simply the fraction\n",
        "# of data points that are correctly classified.\n",
        "results = {}\n",
        "best_val = -1   # The highest validation accuracy that we have seen so far.\n",
        "best_softmax = None # The Softmax object that achieved the highest validation rate.\n",
        "\n",
        "################################################################################\n",
        "# TODO:                                                                        #\n",
        "# Write code that chooses the best hyperparameters by tuning on the validation #\n",
        "# set. For each combination of hyperparameters, train a Softmax on the.        #\n",
        "# training set, compute its accuracy on the training and validation sets, and  #\n",
        "# store these numbers in the results dictionary. In addition, store the best   #\n",
        "# validation accuracy in best_val and the Softmax object that achieves this.   #\n",
        "# accuracy in best_softmax.                                                    #\n",
        "#                                                                              #\n",
        "# Hint: You should use a small value for num_iters as you develop your         #\n",
        "# validation code so that the classifiers don't take much time to train; once  #\n",
        "# you are confident that your validation code works, you should rerun the      #\n",
        "# code with a larger value for num_iters.                                      #\n",
        "################################################################################\n",
        "\n",
        "# Provided as a reference. You may or may not want to change these hyperparameters\n",
        "learning_rates = [1e-7, 1e-6]\n",
        "regularization_strengths = [2.5e4, 1e4]\n",
        "\n",
        "# ### START CODE HERE ###\n",
        "# ### END CODE HERE ###\n",
        "\n",
        "# Print out results.\n",
        "for lr, reg in sorted(results):\n",
        "    train_accuracy, val_accuracy = results[(lr, reg)]\n",
        "    print('lr %e reg %e train accuracy: %f val accuracy: %f' % (\n",
        "                lr, reg, train_accuracy, val_accuracy))\n",
        "\n",
        "print('best validation accuracy achieved during cross-validation: %f' % best_val)"
      ]
    },
    {
      "cell_type": "code",
      "execution_count": 16,
      "id": "1b520723",
      "metadata": {
        "colab": {
          "base_uri": "https://localhost:8080/",
          "height": 813
        },
        "executionInfo": {
          "elapsed": 524,
          "status": "ok",
          "timestamp": 1743795547973,
          "user": {
            "displayName": "Chaitanya Pankajkumar Patel",
            "userId": "12528634836775253144"
          },
          "user_tz": 420
        },
        "id": "1b520723",
        "outputId": "7ce8c1e6-bbce-4865-becc-87a21715a9b7",
        "tags": [
          "pdf-ignore-input"
        ]
      },
      "outputs": [],
      "source": [
        "# Visualize the cross-validation results\n",
        "import math\n",
        "\n",
        "x_scatter = [math.log10(x[0]) for x in results]\n",
        "y_scatter = [math.log10(x[1]) for x in results]\n",
        "\n",
        "# plot training accuracy\n",
        "marker_size = 100\n",
        "colors = [results[x][0] for x in results]\n",
        "plt.subplot(2, 1, 1)\n",
        "plt.tight_layout(pad=3)\n",
        "plt.scatter(x_scatter, y_scatter, marker_size, c=colors, cmap=plt.cm.coolwarm)\n",
        "plt.colorbar()\n",
        "plt.xlabel('log learning rate')\n",
        "plt.ylabel('log regularization strength')\n",
        "plt.title('CIFAR-10 training accuracy')\n",
        "\n",
        "# plot validation accuracy\n",
        "colors = [results[x][1] for x in results] # default size of markers is 20\n",
        "plt.subplot(2, 1, 2)\n",
        "plt.scatter(x_scatter, y_scatter, marker_size, c=colors, cmap=plt.cm.coolwarm)\n",
        "plt.colorbar()\n",
        "plt.xlabel('log learning rate')\n",
        "plt.ylabel('log regularization strength')\n",
        "plt.title('CIFAR-10 validation accuracy')\n",
        "plt.show()"
      ]
    },
    {
      "cell_type": "code",
      "execution_count": 17,
      "id": "7b29768e",
      "metadata": {
        "colab": {
          "base_uri": "https://localhost:8080/"
        },
        "executionInfo": {
          "elapsed": 17,
          "status": "ok",
          "timestamp": 1743795547989,
          "user": {
            "displayName": "Chaitanya Pankajkumar Patel",
            "userId": "12528634836775253144"
          },
          "user_tz": 420
        },
        "id": "7b29768e",
        "outputId": "cef5417a-eae3-423f-bfc9-a887aa192df3",
        "test": "test"
      },
      "outputs": [],
      "source": [
        "# Evaluate the best softmax on test set\n",
        "y_test_pred = best_softmax.predict(X_test)\n",
        "test_accuracy = np.mean(y_test == y_test_pred)\n",
        "print('Softmax classifier on raw pixels final test set accuracy: %f' % test_accuracy)"
      ]
    },
    {
      "cell_type": "code",
      "execution_count": 18,
      "id": "20885df4",
      "metadata": {},
      "outputs": [],
      "source": [
        "# Save best softmax model\n",
        "best_softmax.save(\"best_softmax.npy\")"
      ]
    },
    {
      "cell_type": "code",
      "execution_count": 19,
      "id": "9e122c35",
      "metadata": {
        "colab": {
          "base_uri": "https://localhost:8080/",
          "height": 528
        },
        "executionInfo": {
          "elapsed": 813,
          "status": "ok",
          "timestamp": 1743795583528,
          "user": {
            "displayName": "Chaitanya Pankajkumar Patel",
            "userId": "12528634836775253144"
          },
          "user_tz": 420
        },
        "id": "9e122c35",
        "outputId": "dec10259-aa5e-4ed0-b538-6cfea42d4ce4",
        "tags": [
          "pdf-ignore-input"
        ]
      },
      "outputs": [],
      "source": [
        "# Visualize the learned weights for each class.\n",
        "# Depending on your choice of learning rate and regularization strength, these may\n",
        "# or may not be nice to look at.\n",
        "w = best_softmax.W[:-1,:] # strip out the bias\n",
        "w = w.reshape(32, 32, 3, 10)\n",
        "w_min, w_max = np.min(w), np.max(w)\n",
        "classes = ['plane', 'car', 'bird', 'cat', 'deer', 'dog', 'frog', 'horse', 'ship', 'truck']\n",
        "for i in range(10):\n",
        "    plt.subplot(2, 5, i + 1)\n",
        "\n",
        "    # Rescale the weights to be between 0 and 255\n",
        "    wimg = 255.0 * (w[:, :, :, i].squeeze() - w_min) / (w_max - w_min)\n",
        "    plt.imshow(wimg.astype('uint8'))\n",
        "    plt.axis('off')\n",
        "    plt.title(classes[i])\n",
        "plt.show()"
      ]
    },
    {
      "cell_type": "markdown",
      "id": "44b827ad",
      "metadata": {
        "id": "44b827ad",
        "tags": [
          "pdf-inline"
        ]
      },
      "source": [
        "**Inline question 3**\n",
        "\n",
        "Describe what your visualized Softmax classifier weights look like, and offer a brief explanation for why they look the way they do.\n",
        "\n",
        "$\\color{blue}{\\textit Your Answer:}$ \n",
        "\n",
        "### START ANSWER HERE ###\n",
        "### END ANSWER HERE ###"
      ]
    },
    {
      "cell_type": "markdown",
      "id": "DvBKlibgaiy9",
      "metadata": {
        "id": "DvBKlibgaiy9"
      },
      "source": [
        "**Inline Question 4** - *True or False*\n",
        "\n",
        "Suppose the overall training loss is defined as the sum of the per-datapoint loss over all training examples. It is possible to add a new datapoint to a training set that would change the softmax loss, but leave the SVM loss unchanged.\n",
        "\n",
        "$\\color{blue}{\\textit Your Answer:}$\n",
        "\n",
        "\n",
        "### START ANSWER HERE ###\n",
        "### END ANSWER HERE ###"
      ]
    },
    {
      "cell_type": "markdown",
      "id": "00641986",
      "metadata": {},
      "source": [
        "# Submission\n",
        "\n",
        "**You will need to submit the answers from this notebook on Gradescope.**"
      ]
    }
  ],
  "metadata": {
    "colab": {
      "provenance": []
    },
    "kernelspec": {
      "display_name": ".venv",
      "language": "python",
      "name": "python3"
    },
    "language_info": {
      "codemirror_mode": {
        "name": "ipython",
        "version": 3
      },
      "file_extension": ".py",
      "mimetype": "text/x-python",
      "name": "python",
      "nbconvert_exporter": "python",
      "pygments_lexer": "ipython3",
      "version": "3.12.3"
    }
  },
  "nbformat": 4,
  "nbformat_minor": 5
}